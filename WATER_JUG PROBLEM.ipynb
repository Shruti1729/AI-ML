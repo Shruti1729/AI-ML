{
 "cells": [
  {
   "cell_type": "code",
   "execution_count": null,
   "metadata": {},
   "outputs": [],
   "source": [
    "jug1=int(input())\n",
    "jug2=int(input())\n",
    "fin_qty=int(input())"
   ]
  },
  {
   "cell_type": "code",
   "execution_count": null,
   "metadata": {},
   "outputs": [],
   "source": [
    "v=[]\n",
    "def dfs(graph,st_node):\n",
    "    if st_node not in v:\n",
    "        v.append(st_node)\n",
    "        print(st_node)\n",
    "        for x in graph[st_node]:\n",
    "            dfs(graph,x)"
   ]
  },
  {
   "cell_type": "code",
   "execution_count": null,
   "metadata": {},
   "outputs": [],
   "source": [
    "graph={}\n",
    "def gen(graph,node):\n",
    "    st=str(node)\n",
    "    x=int(st[1])\n",
    "    y=int(st[4])\n",
    "    if st not in graph:  \n",
    "        if (x==0 and y==fin_qty) or (x==fin_qty and y==0):\n",
    "            return\n",
    "        if x==0 and y==0:\n",
    "            graph[st]=[]\n",
    "            gen(graph,[jug1,0])\n",
    "            graph[st].append(str([jug1,0]))\n",
    "            gen(graph,[0,jug2])\n",
    "            graph[st].append(str([0,jug2]))\n",
    "        if x>y:\n",
    "            graph[str([x,y])]=[]\n",
    "            if x==jug1 and y==0:\n",
    "                gen(graph,[x-jug2,jug2])\n",
    "                graph[str([x,y])].append(str([x-jug2,jug2])) \n",
    "        if x<y:\n",
    "            graph[str([x,y])]=[]\n",
    "            if  x==0 and y==jug2:\n",
    "                gen(graph,[y,0])\n",
    "                graph[str([0,y])].append(str([y,0]))\n",
    "        if (x<jug1 and y==0) and x!=0:\n",
    "            graph[str([x,y])]=[]\n",
    "            gen(graph,[x,jug2])\n",
    "            graph[str([x,y])].append(str([x,jug2]))\n",
    "        if (x<jug1 and x!=0) and y==jug2:\n",
    "            graph[str([x,y])]=[]\n",
    "            gen(graph,[x,0])\n",
    "            graph[str([x,y])].append(str([x,0]))        \n",
    "        if x==y and x!=0:    \n",
    "            graph[str([x,y])]=[]\n",
    "            gen(graph,[x+(jug1-jug2),y-(jug1-jug2)])\n",
    "            graph[str([x,y])].append(str([x+(jug1-jug2),y-(jug1-jug2)]))\n",
    "        if x==jug1 and y<jug2:\n",
    "            gen(graph,[0,y])\n",
    "            graph[str([x,y])].append(str([0,y]))\n",
    "            gen(graph,[x-(jug2-y),jug2])\n",
    "            graph[str([x,y])].append(str([x-(jug2-y),jug2]))\n",
    "        if x<jug1 and y==0:\n",
    "            gen(graph,[0,x])\n",
    "            graph[str([x,y])].append(str([0,x]))\n",
    "        if x==0 and y<jug2:\n",
    "            gen(graph,[jug1,y])      \n",
    "            graph[str([x,y])].append(str([jug1,y]))     \n",
    "#     print(graph)   "
   ]
  },
  {
   "cell_type": "code",
   "execution_count": null,
   "metadata": {},
   "outputs": [],
   "source": [
    "gen(graph,[0,0])\n",
    "dfs(graph,str([0,0]))"
   ]
  }
 ],
 "metadata": {
  "kernelspec": {
   "display_name": "Python 3",
   "language": "python",
   "name": "python3"
  },
  "language_info": {
   "codemirror_mode": {
    "name": "ipython",
    "version": 3
   },
   "file_extension": ".py",
   "mimetype": "text/x-python",
   "name": "python",
   "nbconvert_exporter": "python",
   "pygments_lexer": "ipython3",
   "version": "3.7.3"
  }
 },
 "nbformat": 4,
 "nbformat_minor": 2
}
