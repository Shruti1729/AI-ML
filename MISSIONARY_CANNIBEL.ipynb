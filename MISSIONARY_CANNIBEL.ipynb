{
 "cells": [
  {
   "cell_type": "code",
   "execution_count": null,
   "metadata": {},
   "outputs": [],
   "source": [
    "nm=int(input())\n",
    "nc=int(input())"
   ]
  },
  {
   "cell_type": "code",
   "execution_count": null,
   "metadata": {},
   "outputs": [],
   "source": [
    "graph={}\n",
    "def gen_node(graph,m,c):\n",
    "    st=[m,c]\n",
    "    node=str(st)\n",
    "    if (node not in graph): \n",
    "        graph[node]=[]\n",
    "        graph[str([0,0])]=[]\n",
    "        if(m>=c):\n",
    "            if(m-1>=0 and c-1>=0):\n",
    "                graph[node].append(str([m,c-1]))\n",
    "                graph[node].append(str([m-1,c-1]))\n",
    "                gen_node(graph,m-1,c-1)\n",
    "                gen_node(graph,m,c-1)\n",
    "            if(m-2>=0 and c==0):   \n",
    "                graph[node].append(str([m-2,c]))\n",
    "                graph[node].append(str([m-1,c]))\n",
    "            if(m-2>=0 and c-2>=0):   \n",
    "                graph[node].append(str([m,c-2]))\n",
    "                gen_node(graph,m-2,c-2)\n",
    "                gen_node(graph,m,c-2)\n",
    "    print(graph)"
   ]
  },
  {
   "cell_type": "code",
   "execution_count": null,
   "metadata": {
    "scrolled": true
   },
   "outputs": [],
   "source": [
    "gen_node(graph,nm,nc)"
   ]
  },
  {
   "cell_type": "code",
   "execution_count": null,
   "metadata": {},
   "outputs": [],
   "source": [
    "def bfs(graph,st_node):\n",
    "    q=[]\n",
    "    v=[]\n",
    "    q.append(st_node)\n",
    "    v.append(st_node)\n",
    "\n",
    "    for k in graph:\n",
    "        for x in graph[st_node]:\n",
    "            q.append(x)\n",
    "            if x not in v:\n",
    "                v.append(x)   \n",
    "        q.pop(0)\n",
    "        st_node=q[0]\n",
    "\n",
    "    if k not in v:\n",
    "        v.append(k)\n",
    "        print(\"Path for left bank using BFS\",v)\n",
    "    else:\n",
    "        print(\"Path for left bank using BFS\",v)\n",
    "        \n",
    "                "
   ]
  },
  {
   "cell_type": "code",
   "execution_count": null,
   "metadata": {},
   "outputs": [],
   "source": [
    "bfs(graph,str([3,3]))"
   ]
  }
 ],
 "metadata": {
  "kernelspec": {
   "display_name": "Python 3",
   "language": "python",
   "name": "python3"
  },
  "language_info": {
   "codemirror_mode": {
    "name": "ipython",
    "version": 3
   },
   "file_extension": ".py",
   "mimetype": "text/x-python",
   "name": "python",
   "nbconvert_exporter": "python",
   "pygments_lexer": "ipython3",
   "version": "3.7.3"
  }
 },
 "nbformat": 4,
 "nbformat_minor": 2
}
